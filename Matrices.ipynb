{
 "cells": [
  {
   "cell_type": "markdown",
   "metadata": {},
   "source": [
    "Matrices are said to \"act\" on vectors.  As an example, we will have a matrix multiply the vector ${\\left[\\begin{array}{cc}\n",
    "   1 \\\\\n",
    "   1 \\\\\n",
    "  \\end{array}\\right] }$. To give you an appreciation for what this means, you can manipulate the elements of the following matrix ${\\bf{M}}= \\left[ {\\begin{array}{cc}\n",
    "   a & b \\\\\n",
    "   c & d \\\\\n",
    "  \\end{array} } \\right] $ and visualize the effects on the resulting vector ${\\bf{v}} = {\\bf{M}}\\cdot {\\left[\\begin{array}{cc}\n",
    "   1 \\\\\n",
    "   1 \\\\\n",
    "  \\end{array} \\right]}$."
   ]
  },
  {
   "cell_type": "code",
   "execution_count": 1,
   "metadata": {},
   "outputs": [
    {
     "data": {
      "application/vnd.jupyter.widget-view+json": {
       "model_id": "1a76a731a79e4485a1aeaa93ad689858"
      }
     },
     "metadata": {},
     "output_type": "display_data"
    },
    {
     "data": {
      "text/plain": [
       "<function __main__.MatrixProduct>"
      ]
     },
     "execution_count": 1,
     "metadata": {},
     "output_type": "execute_result"
    }
   ],
   "source": [
    "# import necessary modules\n",
    "import numpy as np\n",
    "import matplotlib.pyplot as plt\n",
    "from ipywidgets import *\n",
    "\n",
    "# define the original vector \n",
    "vec = np.array([1,1])\n",
    "\n",
    "# define a function that calculates the resulting matrix product (takes arbitrary elements as inputs)\n",
    "def MatrixProduct(a,b,c,d):\n",
    "    \n",
    "    # create a figure with 2 plots\n",
    "    f, ((ax1, ax2)) = plt.subplots(1,2, sharex=True, sharey=True )\n",
    "    \n",
    "    # set x and y limits\n",
    "    plt.xlim(-10, 10)\n",
    "    plt.ylim(-10, 10)\n",
    "    \n",
    "    # define matrix \n",
    "    mat = np.array([[a,b],[c,d]])\n",
    "    \n",
    "    # calculate resulting vector\n",
    "    resVec = np.dot(mat,vec)\n",
    "    \n",
    "    # plot original vector on first axis and resulting vector on second axis\n",
    "    ax1.quiver(vec[0],vec[1], color='b',angles='xy', scale_units='xy', scale=1)\n",
    "    ax2.quiver(resVec[0],resVec[1], color='r',angles='xy', scale_units='xy', scale=1)\n",
    "    \n",
    "    ax1.set_title('Original Vector')\n",
    "    ax2.set_title('Resulting Vector')\n",
    "    \n",
    "    # show the plot\n",
    "    plt.show()\n",
    "\n",
    "# Allows you to run the function in an interactive way where you can change the arguments.\n",
    "interact(MatrixProduct, a=(-10,10,0.1),b=(-10,10,0.1),c=(-10,10,0.1),d=(-10,10,0.1))\n",
    "\n",
    "\n"
   ]
  },
  {
   "cell_type": "markdown",
   "metadata": {},
   "source": [
    "Now that we see that matrices \"transform\" vectors, we can ask what happens if we have a different starting vector, like ${\\left[\\begin{array}{cc}\n",
    "   1 \\\\\n",
    "   0 \\\\\n",
    "  \\end{array} \\right]}$."
   ]
  },
  {
   "cell_type": "code",
   "execution_count": 2,
   "metadata": {},
   "outputs": [
    {
     "data": {
      "application/vnd.jupyter.widget-view+json": {
       "model_id": "6cafb2317eee42bd8a9dbd469dc21fe5"
      }
     },
     "metadata": {},
     "output_type": "display_data"
    },
    {
     "data": {
      "text/plain": [
       "<function __main__.MatrixProduct>"
      ]
     },
     "execution_count": 2,
     "metadata": {},
     "output_type": "execute_result"
    }
   ],
   "source": [
    "vec = np.array([1,0])\n",
    "interact(MatrixProduct, a=(-10,10,0.1),b=(-10,10,0.1),c=(-10,10,0.1),d=(-10,10,0.1))\n"
   ]
  },
  {
   "cell_type": "markdown",
   "metadata": {},
   "source": [
    "You may have noticed that in this case changing the elements $a$ and $c$ effect what happens to the vector, but changing $b$ and $d$ have no effect whatsoever on the resulting vector.  The opposite is true for the starting vector ${\\left[\\begin{array}{cc}\n",
    "   0 \\\\\n",
    "   1 \\\\\n",
    "  \\end{array} \\right]}$ \n",
    "  --$b$ and $d$ affect the vector but not $c$ or $d$."
   ]
  },
  {
   "cell_type": "code",
   "execution_count": 3,
   "metadata": {},
   "outputs": [
    {
     "data": {
      "application/vnd.jupyter.widget-view+json": {
       "model_id": "7731f8080a1e46558852c307c9d15c86"
      }
     },
     "metadata": {},
     "output_type": "display_data"
    },
    {
     "data": {
      "text/plain": [
       "<function __main__.MatrixProduct>"
      ]
     },
     "execution_count": 3,
     "metadata": {},
     "output_type": "execute_result"
    }
   ],
   "source": [
    "vec = np.array([0,1])\n",
    "interact(MatrixProduct, a=(-10,10,0.1),b=(-10,10,0.1),c=(-10,10,0.1),d=(-10,10,0.1))"
   ]
  },
  {
   "cell_type": "markdown",
   "metadata": {},
   "source": [
    "Why should this be the case?  Let's carry the general matrix multiplication ${\\bf{v}} = {\\bf{M}}\\cdot {\\left[\\begin{array}{cc}\n",
    "   1 \\\\\n",
    "   0 \\\\\n",
    "  \\end{array} \\right]}$ to see why.\n",
    "  \n",
    "  ${\\bf{v}} = {\\bf{M}} \\cdot {\\left[\\begin{array}{cc} \n",
    "   1 \\\\ \n",
    "   0 \\\\ \n",
    "  \\end{array} \\right]} $\n",
    "  \n",
    "  ${\\bf{v}} = {\\left[\\begin{array}{cc}\n",
    "   a & b \\\\\n",
    "   c & d \\\\\n",
    "  \\end{array}  \\right]} \\cdot \n",
    "  {\\left[\\begin{array}{cc} \n",
    "   1 \\\\ \n",
    "   0 \\\\ \n",
    "  \\end{array} \\right]} =  {\\left[\\begin{array}{cc}\n",
    "   a \\\\\n",
    "   c \\\\\n",
    "  \\end{array} \\right]}$\n",
    "  \n",
    "  From this, it is clear that only the first column of the matrix affects the transformation of the vector (1,0).  \n",
    "  If we carry out the multiplication on the vector (0,1), the result is (b, d).  Note that the resulting vectors are the columns of our matrix (more on this later). \n",
    "\n",
    "So why were all of the elements of the matrix able to affect our original vector (1,1).  Well let's do the multiplication and find out\n",
    "  ${\\bf{v}} = {\\left[\\begin{array}{cc}\n",
    "   a & b \\\\\n",
    "   c & d \\\\\n",
    "  \\end{array}  \\right]} \\cdot \n",
    "  {\\left[\\begin{array}{cc} \n",
    "   1 \\\\ \n",
    "   1 \\\\ \n",
    "  \\end{array} \\right]} =  {\\left[\\begin{array}{cc}\n",
    "   a + b\\\\\n",
    "   c + d\\\\\n",
    "  \\end{array} \\right]}$\n",
    "  \n",
    "  The result is clearly a combination of both columns of our matrix, but so what? Well let's write the multiplication for a general vector ${\\bf{c}}= (k1,k2)$ in a more suggestive way. \n",
    "  \n",
    "  ${\\bf{v}} = {\\left[\\begin{array}{cc}\n",
    "   a & b \\\\\n",
    "   c & d \\\\\n",
    "  \\end{array}  \\right]} \\cdot \n",
    "  {\\left[\\begin{array}{cc} \n",
    "   k1 \\\\ \n",
    "   k2  \\\\ \n",
    "  \\end{array} \\right]} =  \n",
    "  {\\left[\\begin{array}{cc}\n",
    "   k1\\cdot a + k2\\cdot b \\\\\n",
    "   k1\\cdot c + k2\\cdot d \\\\\n",
    "  \\end{array} \\right]}\n",
    "  = k1{\\left[\\begin{array}{cc}\n",
    "    a \\\\\n",
    "    c \\\\\n",
    "  \\end{array} \\right]} + \n",
    "  k2{\\left[\\begin{array}{cc}\n",
    "    b \\\\\n",
    "    d \\\\\n",
    "  \\end{array} \\right]} $\n",
    "  \n",
    "  If we view the columns of our matrix as independent vectors, we see that the matrix multiplications turns out to be a linear combination of these column vectors where the scaling coefficients are given by the components of the vectors we are transforming. So if one of the components of the vector are zero than the contribution of the corresponding column vector of the matrix to the final vector will be the zero vector--ie. has no effect. \n",
    "  "
   ]
  },
  {
   "cell_type": "code",
   "execution_count": null,
   "metadata": {
    "collapsed": true
   },
   "outputs": [],
   "source": []
  }
 ],
 "metadata": {
  "kernelspec": {
   "display_name": "Python 2",
   "language": "python",
   "name": "python2"
  },
  "language_info": {
   "codemirror_mode": {
    "name": "ipython",
    "version": 2
   },
   "file_extension": ".py",
   "mimetype": "text/x-python",
   "name": "python",
   "nbconvert_exporter": "python",
   "pygments_lexer": "ipython2",
   "version": "2.7.13"
  }
 },
 "nbformat": 4,
 "nbformat_minor": 2
}
