{
 "cells": [
  {
   "cell_type": "markdown",
   "metadata": {},
   "source": [
    "Matrices are said to \"act\" on vectors.  As an example, we will have a matrix multiply the vector ${\\left[\\begin{array}{cc}\n",
    "   1 \\\\\n",
    "   1 \\\\\n",
    "  \\end{array}\\right] }$. To give you an appreciation for what this means, you can manipulate the elements of the following matrix ${\\bf{M}}= \\left[ {\\begin{array}{cc}\n",
    "   a & b \\\\\n",
    "   c & d \\\\\n",
    "  \\end{array} } \\right] $ and visualize the effects on the resulting vector ${\\bf{v}} = {\\bf{M}}\\cdot {\\left[\\begin{array}{cc}\n",
    "   1 \\\\\n",
    "   1 \\\\\n",
    "  \\end{array} \\right]}$."
   ]
  },
  {
   "cell_type": "code",
   "execution_count": 1,
   "metadata": {},
   "outputs": [
    {
     "data": {
      "application/vnd.jupyter.widget-view+json": {
       "model_id": "9239ba2954fc41cfb64f9a08c9e63d31"
      }
     },
     "metadata": {},
     "output_type": "display_data"
    },
    {
     "data": {
      "text/plain": [
       "<function __main__.MatrixProduct>"
      ]
     },
     "execution_count": 1,
     "metadata": {},
     "output_type": "execute_result"
    }
   ],
   "source": [
    "# import necessary modules\n",
    "import numpy as np\n",
    "import matplotlib.pyplot as plt\n",
    "from ipywidgets import *\n",
    "\n",
    "# define the original vector \n",
    "vec = np.array([1,1])\n",
    "\n",
    "# define a function that calculates the resulting matrix product (takes arbitrary elements as inputs)\n",
    "def MatrixProduct(a,b,c,d):\n",
    "    \n",
    "    # create a figure with 2 plots\n",
    "    f, ((ax1, ax2)) = plt.subplots(1,2, sharex=True, sharey=True )\n",
    "    \n",
    "    # set x and y limits\n",
    "    plt.xlim(-10, 10)\n",
    "    plt.ylim(-10, 10)\n",
    "    \n",
    "    # define matrix \n",
    "    mat = np.array([[a,b],[c,d]])\n",
    "    \n",
    "    # calculate resulting vector\n",
    "    resVec = np.dot(mat,vec)\n",
    "    \n",
    "    # plot original vector on first axis and resulting vector on second axis\n",
    "    ax1.quiver(vec[0],vec[1], color='b',angles='xy', scale_units='xy', scale=1)\n",
    "    ax2.quiver(resVec[0],resVec[1], color='r',angles='xy', scale_units='xy', scale=1)\n",
    "    \n",
    "    ax1.set_title('Original Vector')\n",
    "    ax2.set_title('Resulting Vector')\n",
    "    \n",
    "    # show the plot\n",
    "    plt.show()\n",
    "\n",
    "# Allows you to run the function in an interactive way where you can change the arguments.\n",
    "interact(MatrixProduct, a=(-10,10,0.1),b=(-10,10,0.1),c=(-10,10,0.1),d=(-10,10,0.1))\n",
    "\n",
    "\n"
   ]
  },
  {
   "cell_type": "markdown",
   "metadata": {},
   "source": [
    "Now that we see that matrices \"transform\" vectors, we can ask what happens if we have a different starting vector, like ${\\left[\\begin{array}{cc}\n",
    "   1 \\\\\n",
    "   0 \\\\\n",
    "  \\end{array} \\right]}$."
   ]
  },
  {
   "cell_type": "code",
   "execution_count": 2,
   "metadata": {},
   "outputs": [
    {
     "data": {
      "application/vnd.jupyter.widget-view+json": {
       "model_id": "99901505fe2d4f3f9d090802cec0ca71"
      }
     },
     "metadata": {},
     "output_type": "display_data"
    },
    {
     "data": {
      "text/plain": [
       "<function __main__.MatrixProduct>"
      ]
     },
     "execution_count": 2,
     "metadata": {},
     "output_type": "execute_result"
    }
   ],
   "source": [
    "vec = np.array([1,0])\n",
    "interact(MatrixProduct, a=(-10,10,0.1),b=(-10,10,0.1),c=(-10,10,0.1),d=(-10,10,0.1))\n"
   ]
  },
  {
   "cell_type": "markdown",
   "metadata": {},
   "source": [
    "You may have noticed that in this case changing the elements $a$ and $c$ effect what happens to the vector, but changing $b$ and $d$ have no effect whatsoever on the resulting vector.  The opposite is true for the starting vector ${\\left[\\begin{array}{cc}\n",
    "   0 \\\\\n",
    "   1 \\\\\n",
    "  \\end{array} \\right]}$ \n",
    "  --$b$ and $d$ affect the vector but not $c$ or $d$."
   ]
  },
  {
   "cell_type": "code",
   "execution_count": 3,
   "metadata": {},
   "outputs": [
    {
     "data": {
      "application/vnd.jupyter.widget-view+json": {
       "model_id": "607c7059cabb41638e3f5928ea1993b2"
      }
     },
     "metadata": {},
     "output_type": "display_data"
    },
    {
     "data": {
      "text/plain": [
       "<function __main__.MatrixProduct>"
      ]
     },
     "execution_count": 3,
     "metadata": {},
     "output_type": "execute_result"
    }
   ],
   "source": [
    "vec = np.array([0,1])\n",
    "interact(MatrixProduct, a=(-10,10,0.1),b=(-10,10,0.1),c=(-10,10,0.1),d=(-10,10,0.1))"
   ]
  },
  {
   "cell_type": "markdown",
   "metadata": {},
   "source": [
    "Why should this be the case?  Let's carry the general matrix multiplication ${\\bf{v}} = {\\bf{M}}\\cdot {\\left[\\begin{array}{cc}\n",
    "   1 \\\\\n",
    "   0 \\\\\n",
    "  \\end{array} \\right]}$ to see why.\n",
    "  \n",
    "  ${\\bf{v}} = {\\bf{M}} \\cdot {\\left[\\begin{array}{cc} \n",
    "   1 \\\\ \n",
    "   0 \\\\ \n",
    "  \\end{array} \\right]} $\n",
    "  \n",
    "  ${\\bf{v}} = {\\left[\\begin{array}{cc}\n",
    "   a & b \\\\\n",
    "   c & d \\\\\n",
    "  \\end{array}  \\right]} \\cdot \n",
    "  {\\left[\\begin{array}{cc} \n",
    "   1 \\\\ \n",
    "   0 \\\\ \n",
    "  \\end{array} \\right]} =  {\\left[\\begin{array}{cc}\n",
    "   a \\\\\n",
    "   c \\\\\n",
    "  \\end{array} \\right]}$\n",
    "  \n",
    "  From this, it is clear that only the first column of the matrix affects the transformation of the vector (1,0).  \n",
    "  If we carry out the multiplication on the vector (0,1), the result is (b, d).  Note that the resulting vectors are the columns of our matrix (more on this later). \n",
    "\n",
    "So why were all of the elements of the matrix able to affect our original vector (1,1).  Well let's do the multiplication and find out\n",
    "  ${\\bf{v}} = {\\left[\\begin{array}{cc}\n",
    "   a & b \\\\\n",
    "   c & d \\\\\n",
    "  \\end{array}  \\right]} \\cdot \n",
    "  {\\left[\\begin{array}{cc} \n",
    "   1 \\\\ \n",
    "   1 \\\\ \n",
    "  \\end{array} \\right]} =  {\\left[\\begin{array}{cc}\n",
    "   a + b\\\\\n",
    "   c + d\\\\\n",
    "  \\end{array} \\right]}$\n",
    "  \n",
    "  The result is clearly a combination of both columns of our matrix, but so what? Well let's write the multiplication for a general vector ${\\bf{c}}= (k1,k2)$ in a more suggestive way. \n",
    "  \n",
    "  ${\\bf{v}} = {\\left[\\begin{array}{cc}\n",
    "   a & b \\\\\n",
    "   c & d \\\\\n",
    "  \\end{array}  \\right]} \\cdot \n",
    "  {\\left[\\begin{array}{cc} \n",
    "   k1 \\\\ \n",
    "   k2  \\\\ \n",
    "  \\end{array} \\right]} =  \n",
    "  {\\left[\\begin{array}{cc}\n",
    "   k1\\cdot a + k2\\cdot b \\\\\n",
    "   k1\\cdot c + k2\\cdot d \\\\\n",
    "  \\end{array} \\right]}\n",
    "  = k1{\\left[\\begin{array}{cc}\n",
    "    a \\\\\n",
    "    c \\\\\n",
    "  \\end{array} \\right]} + \n",
    "  k2{\\left[\\begin{array}{cc}\n",
    "    b \\\\\n",
    "    d \\\\\n",
    "  \\end{array} \\right]} $\n",
    "  \n",
    "  If we view the columns of our matrix as independent vectors, we see that the matrix multiplications turns out to be a linear combination of these column vectors where the scaling coefficients are given by the components of the vectors we are transforming. So if one of the components of the vector are zero than the contribution of the corresponding column vector of the matrix to the final vector will be the zero vector--ie. has no effect. \n",
    "  \n",
    "  As a side note, by linear combination, we mean that if you take 2 or more things and scale them by constants and then add them together.  The right hand side of the last equation is clearly a linear combination of the column vectors of our matrix.  The \"column space\" of a matrix in linear algebra is a powerful notion that can tell us alot of information about a linear system.  Here we will go over linear dependence and talk about the dimensionality of the column space.  \n",
    "  \n",
    "Consider the matrix \n",
    "\n",
    "${\\left[\\begin{array}{cc}\n",
    "   1 & 2.5 \\\\\n",
    "   3 & 0.5 \\\\\n",
    "  \\end{array}  \\right]}$\n",
    "  \n",
    "The column vectors are (1,3) and (2.5, 0.5).  Multiplying this matrix by an arbitrary vector, (a,b), will obviously yield the vector given by\n",
    "\n",
    "  $a{\\left[\\begin{array}{cc}\n",
    "    1 \\\\\n",
    "    3 \\\\\n",
    "  \\end{array} \\right]} + \n",
    "  b{\\left[\\begin{array}{cc}\n",
    "    2.5 \\\\\n",
    "    0.5 \\\\\n",
    "  \\end{array} \\right]} $\n",
    "  \n",
    "  What does this mean pictorially? Well, let's plot a grid of lines in the directions of our vectors such that when we add integers times our vectors together we hit intersections. "
   ]
  },
  {
   "cell_type": "code",
   "execution_count": 23,
   "metadata": {
    "scrolled": true
   },
   "outputs": [
    {
     "data": {
      "image/png": "[encoded data removed]",
      "text/plain": [
       "<matplotlib.figure.Figure at 0x7fcf107bbc90>"
      ]
     },
     "metadata": {},
     "output_type": "display_data"
    }
   ],
   "source": [
    "import numpy as np\n",
    "import matplotlib.pyplot as plt\n",
    "\n",
    "#basis vectors \n",
    "v1 =np.array([1,3])\n",
    "v2 = np.array([2.5,0.5])\n",
    "\n",
    "# create figure and axes object\n",
    "fig, ax = plt.subplots(1,1)\n",
    "ax.set_xlim(-5, 8)\n",
    "ax.set_ylim(-3,7)\n",
    "ax.quiver([v1[0]],[v1[1]],color='r',angles='xy', scale_units='xy', scale=1)\n",
    "ax.quiver([v2[0]],[v2[1]],color='r',angles='xy', scale_units='xy', scale=1)\n",
    "\n",
    "\n",
    "t = np.linspace(-15,15, 100)\n",
    "a = np.arange(-10,10)\n",
    "for num in a:\n",
    "    x=[]\n",
    "    y=[]\n",
    "    for tval in t:\n",
    "        vec = num*v1+tval*v2\n",
    "        x.append(vec[0])\n",
    "        y.append(vec[1])\n",
    "    ax.plot(x, y, color = 'blue')\n",
    "    \n",
    "for num in a:\n",
    "    x=[]\n",
    "    y=[]\n",
    "    for tval in t:\n",
    "        vec = num*v2+tval*v1\n",
    "        x.append(vec[0])\n",
    "        y.append(vec[1])\n",
    "    ax.plot(x, y, color = 'blue')\n",
    "    \n",
    "plt.show()"
   ]
  },
  {
   "cell_type": "markdown",
   "metadata": {},
   "source": [
    "The grid presents a nice way of showing the action of our matrix on an arbitrary vector.  For example, we know that the following matrix multiplication should work out as follows:\n",
    "\n",
    "${\\left[\\begin{array}{cc}\n",
    "   1 & 2.5 \\\\\n",
    "   3 & 0.5 \\\\\n",
    "  \\end{array}  \\right]}\\cdot {\\left[\\begin{array}{cc}\n",
    "   1.3  \\\\\n",
    "   2.2 \\\\\n",
    "  \\end{array}  \\right]}= 1.3{\\left[\\begin{array}{cc}\n",
    "    1 \\\\\n",
    "    3 \\\\\n",
    "  \\end{array} \\right]} + \n",
    "  2.2{\\left[\\begin{array}{cc}\n",
    "    2.5 \\\\\n",
    "    0.5 \\\\\n",
    "  \\end{array} \\right]}$\n",
    " \n",
    " Pictorially, we scale the vectors by their corresponding coefficients and then add them together to obtain the result of the matrix multiplication.  \n",
    " \n",
    " \n",
    " "
   ]
  },
  {
   "cell_type": "code",
   "execution_count": 27,
   "metadata": {},
   "outputs": [
    {
     "data": {
      "image/png": "[encoded data removed]",
      "text/plain": [
       "<matplotlib.figure.Figure at 0x7fcf10847950>"
      ]
     },
     "metadata": {},
     "output_type": "display_data"
    }
   ],
   "source": [
    "import numpy as np\n",
    "import matplotlib.pyplot as plt\n",
    "\n",
    "#basis vectors \n",
    "v1 =np.array([1,3])\n",
    "v2 = np.array([2.5,0.5])\n",
    "\n",
    "# create figure and axes object\n",
    "fig, ax = plt.subplots(1,1)\n",
    "ax.set_xlim(-5, 8)\n",
    "ax.set_ylim(-3,7)\n",
    "ax.quiver([v1[0]],[v1[1]],color='b',angles='xy', scale_units='xy', scale=1)\n",
    "ax.quiver([v2[0]],[v2[1]],color='b',angles='xy', scale_units='xy', scale=1)\n",
    "\n",
    "\n",
    "t = np.linspace(-15,15, 100)\n",
    "a = np.arange(-10,10)\n",
    "for num in a:\n",
    "    x=[]\n",
    "    y=[]\n",
    "    for tval in t:\n",
    "        vec = num*v1+tval*v2\n",
    "        x.append(vec[0])\n",
    "        y.append(vec[1])\n",
    "    ax.plot(x, y, color = 'blue')\n",
    "    \n",
    "for num in a:\n",
    "    x=[]\n",
    "    y=[]\n",
    "    for tval in t:\n",
    "        vec = num*v2+tval*v1\n",
    "        x.append(vec[0])\n",
    "        y.append(vec[1])\n",
    "    ax.plot(x, y, color = 'blue')\n",
    "    \n",
    "ax.quiver([2.2* v2[0]],[2.2*v2[1]],[1.3*v1[0]],[1.3*v1[1]],color='r',angles='xy', scale_units='xy', scale=1)\n",
    "ax.quiver([2.2* v2[0]],[2.2*v2[1]],color='r',angles='xy', scale_units='xy', scale=1)\n",
    "ax.quiver([2.2* v2[0]+1.3*v1[0]],[2.2*v2[1]+1.3*v1[1]],color='r',angles='xy', scale_units='xy', scale=1)\n",
    "plt.show()"
   ]
  },
  {
   "cell_type": "markdown",
   "metadata": {},
   "source": [
    "It should be clear from this picture that we can construct any vector in that exists in this 2-d space by carefully choosing the components of the vector on which our matrix is acting. Will this always be the case?\n",
    "\n",
    "If no, under what circumstances will we fail to be able to recover any vector that we want from our multiplication?\n",
    "\n",
    "The notion of being able to construct grids in this way can be expanded to any number of dimensions, though it is impossible to fully visualize after three dimensions.  For a 3x3 matrix, our grid exits in the 3-d cartesian space and the vectors form a grid consisting of parallelpipeds instead of parallelograms. \n",
    "\n"
   ]
  }
 ],
 "metadata": {
  "kernelspec": {
   "display_name": "Python 2",
   "language": "python",
   "name": "python2"
  },
  "language_info": {
   "codemirror_mode": {
    "name": "ipython",
    "version": 2
   },
   "file_extension": ".py",
   "mimetype": "text/x-python",
   "name": "python",
   "nbconvert_exporter": "python",
   "pygments_lexer": "ipython2",
   "version": "2.7.13"
  }
 },
 "nbformat": 4,
 "nbformat_minor": 2
}
