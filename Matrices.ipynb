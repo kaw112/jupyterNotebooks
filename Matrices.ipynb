{
 "cells": [
  {
   "cell_type": "markdown",
   "metadata": {},
   "source": [
    "Matrices are said to \"act\" on vectors.  As an example, we will have a matrix multiply the vector ${\\left[\\begin{array}{cc}\n",
    "   1 \\\\\n",
    "   1 \\\\\n",
    "  \\end{array}\\right] }$. To give you an appreciation for what this means, you can manipulate the elements of the following matrix ${\\bf{M}}= \\left[ {\\begin{array}{cc}\n",
    "   a & b \\\\\n",
    "   c & d \\\\\n",
    "  \\end{array} } \\right] $ and visualize the effects on the resulting vector ${\\bf{v}} = {\\bf{M}}\\cdot {\\left[\\begin{array}{cc}\n",
    "   1 \\\\\n",
    "   1 \\\\\n",
    "  \\end{array} \\right]}$."
   ]
  },
  {
   "cell_type": "code",
   "execution_count": 1,
   "metadata": {},
   "outputs": [
    {
     "name": "stderr",
     "output_type": "stream",
     "text": [
      "\n",
      "Bad key \"legend.isaxes\" on line 120 in\n",
      "/home/keith/.config/matplotlib/matplotlibrc.\n",
      "You probably need to get an updated matplotlibrc file from\n",
      "http://github.com/matplotlib/matplotlib/blob/master/matplotlibrc.template\n",
      "or from the matplotlib source distribution\n",
      "/home/keith/anaconda2/lib/python2.7/site-packages/matplotlib/__init__.py:913: UserWarning: axes.color_cycle is deprecated and replaced with axes.prop_cycle; please use the latter.\n",
      "  warnings.warn(self.msg_depr % (key, alt_key))\n",
      "/home/keith/anaconda2/lib/python2.7/site-packages/matplotlib/__init__.py:917: UserWarning: axes.hold is deprecated. Please remove it from your matplotlibrc and/or style files.\n",
      "  warnings.warn(self.msg_depr_set % key)\n",
      "/home/keith/anaconda2/lib/python2.7/site-packages/matplotlib/rcsetup.py:152: UserWarning: axes.hold is deprecated, will be removed in 3.0\n",
      "  warnings.warn(\"axes.hold is deprecated, will be removed in 3.0\")\n"
     ]
    },
    {
     "data": {
      "application/vnd.jupyter.widget-view+json": {
       "model_id": "ea94dcd8893845b09abd6f047897ef10"
      }
     },
     "metadata": {},
     "output_type": "display_data"
    },
    {
     "data": {
      "text/plain": [
       "<function __main__.MatrixProduct>"
      ]
     },
     "execution_count": 1,
     "metadata": {},
     "output_type": "execute_result"
    }
   ],
   "source": [
    "# import necessary modules\n",
    "import numpy as np\n",
    "import matplotlib.pyplot as plt\n",
    "from ipywidgets import *\n",
    "\n",
    "# define the original vector \n",
    "vec = np.array([1,1])\n",
    "\n",
    "# define a function that calculates the resulting matrix product (takes arbitrary elements as inputs)\n",
    "def MatrixProduct(a,b,c,d):\n",
    "    \n",
    "    # create a figure with 2 plots\n",
    "    f, ((ax1, ax2)) = plt.subplots(1,2, sharex=True, sharey=True )\n",
    "    \n",
    "    # set x and y limits\n",
    "    plt.xlim(-10, 10)\n",
    "    plt.ylim(-10, 10)\n",
    "    \n",
    "    # define matrix \n",
    "    mat = np.array([[a,b],[c,d]])\n",
    "    \n",
    "    # calculate resulting vector\n",
    "    resVec = np.dot(mat,vec)\n",
    "    \n",
    "    # plot original vector on first axis and resulting vector on second axis\n",
    "    ax1.quiver(vec[0],vec[1], color='b',angles='xy', scale_units='xy', scale=1)\n",
    "    ax2.quiver(resVec[0],resVec[1], color='r',angles='xy', scale_units='xy', scale=1)\n",
    "    \n",
    "    ax1.set_title('Original Vector')\n",
    "    ax2.set_title('Resulting Vector')\n",
    "    \n",
    "    # show the plot\n",
    "    plt.show()\n",
    "\n",
    "# Allows you to run the function in an interactive way where you can change the arguments.\n",
    "interact(MatrixProduct, a=(-10,10,0.1),b=(-10,10,0.1),c=(-10,10,0.1),d=(-10,10,0.1))\n",
    "\n",
    "\n"
   ]
  },
  {
   "cell_type": "markdown",
   "metadata": {},
   "source": [
    "Now that we see that matrices \"transform\" vectors, we can ask what happens if we have a different starting vector, like ${\\left[\\begin{array}{cc}\n",
    "   1 \\\\\n",
    "   0 \\\\\n",
    "  \\end{array} \\right]}$."
   ]
  },
  {
   "cell_type": "code",
   "execution_count": 2,
   "metadata": {},
   "outputs": [
    {
     "data": {
      "application/vnd.jupyter.widget-view+json": {
       "model_id": "1188456e7cb44ff6b3e30e2badd3f507"
      }
     },
     "metadata": {},
     "output_type": "display_data"
    },
    {
     "data": {
      "text/plain": [
       "<function __main__.MatrixProduct>"
      ]
     },
     "execution_count": 2,
     "metadata": {},
     "output_type": "execute_result"
    }
   ],
   "source": [
    "vec = np.array([1,0])\n",
    "interact(MatrixProduct, a=(-10,10,0.1),b=(-10,10,0.1),c=(-10,10,0.1),d=(-10,10,0.1))\n"
   ]
  },
  {
   "cell_type": "markdown",
   "metadata": {},
   "source": [
    "You may have noticed that in this case changing the elements $a$ and $c$ effect what happens to the vector, but changing $b$ and $d$ have no effect whatsoever on the resulting vector.  The opposite is true for the starting vector ${\\left[\\begin{array}{cc}\n",
    "   0 \\\\\n",
    "   1 \\\\\n",
    "  \\end{array} \\right]}$ \n",
    "  --$b$ and $d$ affect the vector but not $c$ or $d$."
   ]
  },
  {
   "cell_type": "code",
   "execution_count": 51,
   "metadata": {},
   "outputs": [
    {
     "data": {
      "application/vnd.jupyter.widget-view+json": {
       "model_id": "46936833137342a790acae5cbcbc15a1"
      }
     },
     "metadata": {},
     "output_type": "display_data"
    },
    {
     "data": {
      "text/plain": [
       "<function __main__.MatrixProduct>"
      ]
     },
     "execution_count": 51,
     "metadata": {},
     "output_type": "execute_result"
    }
   ],
   "source": [
    "vec = np.array([0,1])\n",
    "interact(MatrixProduct, a=(-10,10,0.1),b=(-10,10,0.1),c=(-10,10,0.1),d=(-10,10,0.1))"
   ]
  },
  {
   "cell_type": "markdown",
   "metadata": {},
   "source": [
    "Why should this be the case?  Let's carry the general matrix multiplication ${\\bf{v}} = {\\bf{M}}\\cdot {\\left[\\begin{array}{cc}\n",
    "   1 \\\\\n",
    "   0 \\\\\n",
    "  \\end{array} \\right]}$ to see why.\n",
    "  \n",
    "  ${\\bf{v}} = {\\bf{M}} \\cdot {\\left[\\begin{array}{cc} \n",
    "   1 \\\\ \n",
    "   0 \\\\ \n",
    "  \\end{array} \\right]} $\n",
    "  \n",
    "  ${\\bf{v}} = {\\left[\\begin{array}{cc}\n",
    "   a & b \\\\\n",
    "   c & d \\\\\n",
    "  \\end{array}  \\right]} \\cdot \n",
    "  {\\left[\\begin{array}{cc} \n",
    "   1 \\\\ \n",
    "   0 \\\\ \n",
    "  \\end{array} \\right]} =  {\\left[\\begin{array}{cc}\n",
    "   a \\\\\n",
    "   c \\\\\n",
    "  \\end{array} \\right]}$\n",
    "  \n"
   ]
  },
  {
   "cell_type": "code",
   "execution_count": null,
   "metadata": {
    "collapsed": true
   },
   "outputs": [],
   "source": []
  }
 ],
 "metadata": {
  "kernelspec": {
   "display_name": "Python 2",
   "language": "python",
   "name": "python2"
  },
  "language_info": {
   "codemirror_mode": {
    "name": "ipython",
    "version": 2
   },
   "file_extension": ".py",
   "mimetype": "text/x-python",
   "name": "python",
   "nbconvert_exporter": "python",
   "pygments_lexer": "ipython2",
   "version": "2.7.13"
  }
 },
 "nbformat": 4,
 "nbformat_minor": 2
}
