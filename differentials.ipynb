{
 "cells": [
  {
   "cell_type": "code",
   "execution_count": 1,
   "metadata": {
    "collapsed": true
   },
   "outputs": [],
   "source": [
    "# Welcome to MoCChA - Mathematics on Computers for Chemistry Applications!\n",
    "#\n",
    "# This notebook calculates the change Delta_F, given a differential df = fx * dx + fy * dy.\n",
    "# We approximate Delta_F by taking finite steps in x and y and summing up the changes df.\n",
    "# \n",
    "# This cell defines the differential df and the curve along which we're calculating the change.\n",
    "# Feel free to experiment. You can change any line marked with \"<---\" below to change one of the parameters.\n",
    "# For example, you can choose a different differential to calculate or a different path along which to sum up df.\n",
    "# Or, you can change the numerical accuracy by varying the step size that determines the \n",
    "# finite steps with which we approximate dx and dy.\n",
    "#\n",
    "#\n",
    "# Hit Shift-Enter to execute each cell.\n",
    "#\n",
    "\n",
    "# You can ignore the following four lines. They are necessary to load some libraries and set up the calculation. \n",
    "import sympy\n",
    "from sympy import *\n",
    "# tell the computer that x and y are variables\n",
    "x, y = sympy.symbols('x y')\n",
    "\n",
    "###### MODIFY BELOW ########\n",
    "\n",
    "### Define the differential df ###\n",
    "# df = fx * dx  +  fy * dy\n",
    "fx = 0.5*y**2       # <--- modify here to change fx\n",
    "fy = x*y       # <--- modify here to change fy\n",
    "\n",
    "### Defines the pathway along which we sum up the change ###\n",
    "\n",
    "# We specify the pathway by specifying a function y(x). \n",
    "# We're going to sum up Delta_F along the curve defined by y(x).\n",
    "y_of_x = x # <--- modify here to change path\n",
    "\n",
    "# x_start is the x-value of the start point for the path\n",
    "x_start = 0 # <--- modify here to change starting point\n",
    "# x_end is the x-value where the path ends\n",
    "x_end = 1 # <--- modify here to change end point\n",
    "\n",
    "# Our program is going to calculate the change in f by summing up small changes df along the path defined by y(x).\n",
    "# stepsize is the size of steps we're going to take \n",
    "stepsize = 0.1 # <--- modify here to change finite step size"
   ]
  },
  {
   "cell_type": "code",
   "execution_count": 2,
   "metadata": {},
   "outputs": [
    {
     "name": "stdout",
     "output_type": "stream",
     "text": [
      "Here's the path along which we're going to sum up df:\n"
     ]
    },
    {
     "data": {
      "image/png": "[encoded data removed]",
      "text/plain": [
       "<matplotlib.figure.Figure at 0x7f7bb15416a0>"
      ]
     },
     "metadata": {},
     "output_type": "display_data"
    }
   ],
   "source": [
    "# You can ignore the code in this section. Just look at the output below. \n",
    "# The plot below shows the path along which we're going to sum up the change Delta_F.\n",
    "#\n",
    "# Note: Plotting may take 5-10 seconds, so have patience ;)\n",
    "\n",
    "import matplotlib\n",
    "import matplotlib.pyplot as plt\n",
    "import numpy as np\n",
    "from sympy.utilities.lambdify import lambdify\n",
    "\n",
    "X = np.arange(x_start, x_end+stepsize, stepsize) #\n",
    "func = lambdify(x, y_of_x,'numpy')\n",
    "Y = func(X)\n",
    "plt.plot(X,Y,'bo-')\n",
    "plt.ylabel(\"y\")\n",
    "plt.xlabel(\"x\")\n",
    "print(\"Here's the path along which we're going to sum up df:\")\n",
    "plt.annotate('start', xy=(X[0], Y[0]), xytext=(X[0], Y[0]+0.2),\n",
    "            arrowprops=dict(facecolor='black', shrink=0.1),\n",
    "            )\n",
    "plt.annotate('end', xy=(X[-1], Y[-1]), xytext=(X[-1], Y[-1]-0.2),\n",
    "            arrowprops=dict(facecolor='black', shrink=0.1)\n",
    "            )\n",
    "plt.show()"
   ]
  },
  {
   "cell_type": "code",
   "execution_count": 3,
   "metadata": {},
   "outputs": [
    {
     "name": "stdout",
     "output_type": "stream",
     "text": [
      "Pt.No.    x0    y0  fx(x0,y0)  fy(x0,y0)  Delta_x  Delta_y  Delta_f\n",
      "-------------------------------------------------------------------\n",
      "     1   0.1   0.1        0.0        0.0      0.1      0.1      0.0\n",
      "     2   0.2   0.2        0.0        0.0      0.1      0.1      0.0\n",
      "     3   0.3   0.3        0.0        0.1      0.1      0.1      0.0\n",
      "     4   0.4   0.4        0.1        0.2      0.1      0.1      0.0\n",
      "     5   0.5   0.5        0.1        0.2      0.1      0.1      0.1\n",
      "     6   0.6   0.6        0.2        0.4      0.1      0.1      0.1\n",
      "     7   0.7   0.7        0.2        0.5      0.1      0.1      0.2\n",
      "     8   0.8   0.8        0.3        0.6      0.1      0.1      0.3\n",
      "     9   0.9   0.9        0.4        0.8      0.1      0.1      0.4\n",
      "    10   1.0   1.0        0.5        1.0      0.1      0.1      0.6\n",
      "Change Delta_f approximated by summing over 11 finite steps:              0.578\n"
     ]
    }
   ],
   "source": [
    "# Now we're going to calculate the change df along the path.\n",
    "\n",
    "# makes steps along the pathway y(x), calculate fx and fy for each point, \n",
    "Delta_f = 0\n",
    "Npoints = len(X)\n",
    "print(\"Pt.No.    x0    y0  fx(x0,y0)  fy(x0,y0)  Delta_x  Delta_y  Delta_f\")\n",
    "print(\"-------------------------------------------------------------------\")\n",
    "for i in range(1, Npoints):\n",
    "    x0 = X[i]\n",
    "    y0 = Y[i]\n",
    "    fx0 = fx.subs({x: x0, y: y0}).evalf()\n",
    "    fy0 = fy.evalf(subs={x:x0,y:y0})\n",
    "    DeltaX = x0 - X[i-1]\n",
    "    DeltaY = y0 - Y[i-1]\n",
    "    Delta_f += fx0 * DeltaX + fy0 * DeltaY\n",
    "    print(\"%6d %5.1f %5.1f %10.1f %10.1f %8.1f %8.1f %8.1f\" % (i,x0,y0,fx0,fy0,DeltaX,DeltaY,Delta_f))\n",
    "\n",
    "print(\"Change Delta_f approximated by summing over %d finite steps:   %16.3f\" % (Npoints, Delta_f))"
   ]
  },
  {
   "cell_type": "code",
   "execution_count": null,
   "metadata": {
    "collapsed": true
   },
   "outputs": [],
   "source": []
  }
 ],
 "metadata": {
  "kernelspec": {
   "display_name": "Python [default]",
   "language": "python",
   "name": "python3"
  },
  "language_info": {
   "codemirror_mode": {
    "name": "ipython",
    "version": 3
   },
   "file_extension": ".py",
   "mimetype": "text/x-python",
   "name": "python",
   "nbconvert_exporter": "python",
   "pygments_lexer": "ipython3",
   "version": "3.5.3"
  }
 },
 "nbformat": 4,
 "nbformat_minor": 2
}
