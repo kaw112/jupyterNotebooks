{
 "cells": [
  {
   "cell_type": "code",
   "execution_count": 1,
   "metadata": {},
   "outputs": [
    {
     "data": {
      "application/vnd.jupyter.widget-view+json": {
       "model_id": "048ff9786404452e84e6315ea5c7d21c"
      }
     },
     "metadata": {},
     "output_type": "display_data"
    },
    {
     "data": {
      "text/plain": [
       "<function __main__.fourierPulse>"
      ]
     },
     "execution_count": 1,
     "metadata": {},
     "output_type": "execute_result"
    }
   ],
   "source": [
    "import matplotlib.pyplot as plt\n",
    "import numpy as np\n",
    "from ipywidgets import interact\n",
    "\n",
    "def fourierPulse(timeLength):\n",
    "    plt.clf()\n",
    "    freq1 = 6.0\n",
    "    freq2 = 6.25\n",
    "    def f(t):\n",
    "        return np.exp(-0.1*t)*(np.sin(2*np.pi* freq1*t)+ np.sin(2*np.pi* freq2*t))\n",
    "    nframes = 1000\n",
    "    timeDuration = timeLength\n",
    "    t = np.linspace(0.0, timeDuration, nframes)\n",
    "\n",
    "    sampRate = float(nframes)/float(timeDuration)\n",
    "\n",
    "    fig, (ax1,ax2) = plt.subplots(1,2)\n",
    "    fig.set_size_inches(16, 5)\n",
    "    ft = f(t)\n",
    "    ax1.plot(t, ft)\n",
    "    ax1.set_xlabel('t', fontsize = 15)\n",
    "    ax1.set_ylabel('f(t)', fontsize = 15)\n",
    "    ax1.set_xlim(0,16)\n",
    "    ax1.set_ylim(-2,2)\n",
    "\n",
    "    freqArray = np.fft.fftfreq(10000, 1.0/(2*np.pi*sampRate))\n",
    "    fft= np.fft.fft(ft, len(freqArray))\n",
    "\n",
    "    ax2.plot(freqArray, fft.real**2+ fft.imag**2)\n",
    "    ax2.set_xlim(freq1*np.pi*2.0-5, 2.0*np.pi*freq2+5.0)\n",
    "\n",
    "    plt.show()\n",
    "    \n",
    "interact(fourierPulse, timeLength= (0.5,16,0.1)) "
   ]
  },
  {
   "cell_type": "code",
   "execution_count": null,
   "metadata": {
    "collapsed": true
   },
   "outputs": [],
   "source": []
  }
 ],
 "metadata": {
  "kernelspec": {
   "display_name": "Python 2",
   "language": "python",
   "name": "python2"
  },
  "language_info": {
   "codemirror_mode": {
    "name": "ipython",
    "version": 2
   },
   "file_extension": ".py",
   "mimetype": "text/x-python",
   "name": "python",
   "nbconvert_exporter": "python",
   "pygments_lexer": "ipython2",
   "version": "2.7.13"
  }
 },
 "nbformat": 4,
 "nbformat_minor": 2
}
