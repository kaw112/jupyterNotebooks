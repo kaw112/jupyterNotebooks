{
 "cells": [
  {
   "cell_type": "code",
   "execution_count": 1,
   "metadata": {},
   "outputs": [
    {
     "data": {
      "application/vnd.jupyter.widget-view+json": {
       "model_id": "d88d2f6477214b458e15c6dd0fc69550"
      }
     },
     "metadata": {},
     "output_type": "display_data"
    },
    {
     "data": {
      "text/plain": [
       "<function __main__.fourierPulse>"
      ]
     },
     "execution_count": 1,
     "metadata": {},
     "output_type": "execute_result"
    }
   ],
   "source": [
    "import matplotlib.pyplot as plt\n",
    "import numpy as np\n",
    "from ipywidgets import interact\n",
    "\n",
    "def fourierPulse(pulselength):\n",
    "    plt.clf()\n",
    "    freq = 6.0\n",
    "    def f(t):\n",
    "        return np.sin(2*np.pi* freq*t)\n",
    "    nframes = 1000\n",
    "    timeDuration = pulselength\n",
    "    t = np.linspace(0.0, timeDuration, nframes)\n",
    "\n",
    "    sampRate = float(nframes)/float(timeDuration)\n",
    "\n",
    "    fig, (ax1,ax2, ax3) = plt.subplots(1,3)\n",
    "    fig.set_size_inches(16, 5)\n",
    "    ft = f(t)\n",
    "    ax1.plot(t, ft)\n",
    "    ax1.set_xlabel('t', fontsize = 15)\n",
    "    ax1.set_ylabel('f(t)', fontsize = 15)\n",
    "    ax1.set_xlim(0,6)\n",
    "    ax1.set_ylim(-2,2)\n",
    "\n",
    "    freqArray = np.fft.fftfreq(6000, 1.0/sampRate)\n",
    "    fft= np.fft.fft(ft, len(freqArray))\n",
    "\n",
    "    ax2.plot(freqArray, fft.real)\n",
    "    ax2.set_xlim(-freq-10.0, freq+10.0)\n",
    "    ax3.plot(freqArray, fft.imag)\n",
    "    ax3.set_xlim(-freq-10.0, freq+10.0)\n",
    "\n",
    "    plt.show()\n",
    "    \n",
    "interact(fourierPulse, pulselength= (0.5,5,0.1)) "
   ]
  },
  {
   "cell_type": "code",
   "execution_count": 13,
   "metadata": {},
   "outputs": [
    {
     "data": {
      "application/vnd.jupyter.widget-view+json": {
       "model_id": "a30be41bcfa842efa8c1d1ef04ff4b1b"
      }
     },
     "metadata": {},
     "output_type": "display_data"
    },
    {
     "data": {
      "text/plain": [
       "<function __main__.fourierPulse>"
      ]
     },
     "execution_count": 13,
     "metadata": {},
     "output_type": "execute_result"
    }
   ],
   "source": [
    "import matplotlib.pyplot as plt\n",
    "import numpy as np\n",
    "from ipywidgets import interact\n",
    "\n",
    "def fourierPulse(timeLength):\n",
    "    plt.clf()\n",
    "    freq1 = 6.0\n",
    "    freq2 = 6.5\n",
    "    def f(t):\n",
    "        return np.exp(-t)*(np.sin(2*np.pi* freq1*t)+ np.sin(2*np.pi* freq2*t))\n",
    "    nframes = 1000\n",
    "    timeDuration = timeLength\n",
    "    t = np.linspace(0.0, timeDuration, nframes)\n",
    "\n",
    "    sampRate = float(nframes)/float(timeDuration)\n",
    "\n",
    "    fig, (ax1,ax2) = plt.subplots(1,2)\n",
    "    fig.set_size_inches(16, 5)\n",
    "    ft = f(t)\n",
    "    ax1.plot(t, ft)\n",
    "    ax1.set_xlabel('t', fontsize = 15)\n",
    "    ax1.set_ylabel('f(t)', fontsize = 15)\n",
    "    ax1.set_xlim(0,6)\n",
    "    ax1.set_ylim(-2,2)\n",
    "\n",
    "    freqArray = np.fft.fftfreq(6000, 1.0/sampRate)\n",
    "    fft= np.fft.fft(ft, len(freqArray))\n",
    "\n",
    "    ax2.plot(freqArray, np.sqrt(fft.real**2+ fft.imag**2))\n",
    "    ax2.set_xlim(0, freq2+10.0)\n",
    "\n",
    "    plt.show()\n",
    "    \n",
    "interact(fourierPulse, timeLength= (0.5,5,0.1)) "
   ]
  },
  {
   "cell_type": "code",
   "execution_count": 2,
   "metadata": {},
   "outputs": [
    {
     "ename": "IndexError",
     "evalue": "too many indices for array",
     "output_type": "error",
     "traceback": [
      "\u001b[0;31m---------------------------------------------------------------------------\u001b[0m",
      "\u001b[0;31mIndexError\u001b[0m                                Traceback (most recent call last)",
      "\u001b[0;32m<ipython-input-2-83cdbb00a6c1>\u001b[0m in \u001b[0;36m<module>\u001b[0;34m()\u001b[0m\n\u001b[1;32m    120\u001b[0m \u001b[0;34m\u001b[0m\u001b[0m\n\u001b[1;32m    121\u001b[0m     \u001b[0mplt\u001b[0m\u001b[0;34m.\u001b[0m\u001b[0mshow\u001b[0m\u001b[0;34m(\u001b[0m\u001b[0;34m)\u001b[0m\u001b[0;34m\u001b[0m\u001b[0m\n\u001b[0;32m--> 122\u001b[0;31m \u001b[0mconstructFftWindow\u001b[0m\u001b[0;34m(\u001b[0m\u001b[0;34m'ali.wav'\u001b[0m\u001b[0;34m,\u001b[0m \u001b[0;36m0.05\u001b[0m\u001b[0;34m)\u001b[0m\u001b[0;34m\u001b[0m\u001b[0m\n\u001b[0m\u001b[1;32m    123\u001b[0m \u001b[0;31m#sRate, data = loadData(\"emeril.wav\")\u001b[0m\u001b[0;34m\u001b[0m\u001b[0;34m\u001b[0m\u001b[0m\n\u001b[1;32m    124\u001b[0m \u001b[0;34m\u001b[0m\u001b[0m\n",
      "\u001b[0;32m<ipython-input-2-83cdbb00a6c1>\u001b[0m in \u001b[0;36mconstructFftWindow\u001b[0;34m(wavFile, timeWindow, beginTime, endTime)\u001b[0m\n\u001b[1;32m     49\u001b[0m \u001b[0;34m\u001b[0m\u001b[0m\n\u001b[1;32m     50\u001b[0m \u001b[0;32mdef\u001b[0m \u001b[0mconstructFftWindow\u001b[0m\u001b[0;34m(\u001b[0m\u001b[0mwavFile\u001b[0m\u001b[0;34m,\u001b[0m \u001b[0mtimeWindow\u001b[0m\u001b[0;34m,\u001b[0m \u001b[0mbeginTime\u001b[0m \u001b[0;34m=\u001b[0m \u001b[0mNone\u001b[0m\u001b[0;34m,\u001b[0m \u001b[0mendTime\u001b[0m \u001b[0;34m=\u001b[0m \u001b[0mNone\u001b[0m\u001b[0;34m)\u001b[0m\u001b[0;34m:\u001b[0m\u001b[0;34m\u001b[0m\u001b[0m\n\u001b[0;32m---> 51\u001b[0;31m     \u001b[0msRate\u001b[0m\u001b[0;34m,\u001b[0m \u001b[0mdata\u001b[0m \u001b[0;34m=\u001b[0m \u001b[0mloadData\u001b[0m\u001b[0;34m(\u001b[0m\u001b[0mwavFile\u001b[0m\u001b[0;34m)\u001b[0m\u001b[0;34m\u001b[0m\u001b[0m\n\u001b[0m\u001b[1;32m     52\u001b[0m     \u001b[0;32mprint\u001b[0m \u001b[0mlen\u001b[0m\u001b[0;34m(\u001b[0m\u001b[0mdata\u001b[0m\u001b[0;34m)\u001b[0m\u001b[0;34m\u001b[0m\u001b[0m\n\u001b[1;32m     53\u001b[0m \u001b[0;34m\u001b[0m\u001b[0m\n",
      "\u001b[0;32m<ipython-input-2-83cdbb00a6c1>\u001b[0m in \u001b[0;36mloadData\u001b[0;34m(wavFile)\u001b[0m\n\u001b[1;32m      7\u001b[0m     \u001b[0mw\u001b[0m \u001b[0;34m=\u001b[0m \u001b[0mscipy\u001b[0m\u001b[0;34m.\u001b[0m\u001b[0mio\u001b[0m\u001b[0;34m.\u001b[0m\u001b[0mwavfile\u001b[0m\u001b[0;34m.\u001b[0m\u001b[0mread\u001b[0m\u001b[0;34m(\u001b[0m\u001b[0mwavFile\u001b[0m\u001b[0;34m)\u001b[0m\u001b[0;34m\u001b[0m\u001b[0m\n\u001b[1;32m      8\u001b[0m     \u001b[0msampRate\u001b[0m \u001b[0;34m=\u001b[0m \u001b[0mw\u001b[0m\u001b[0;34m[\u001b[0m\u001b[0;36m0\u001b[0m\u001b[0;34m]\u001b[0m\u001b[0;34m\u001b[0m\u001b[0m\n\u001b[0;32m----> 9\u001b[0;31m     \u001b[0mdata\u001b[0m \u001b[0;34m=\u001b[0m \u001b[0mnp\u001b[0m\u001b[0;34m.\u001b[0m\u001b[0marray\u001b[0m\u001b[0;34m(\u001b[0m\u001b[0mw\u001b[0m\u001b[0;34m[\u001b[0m\u001b[0;36m1\u001b[0m\u001b[0;34m]\u001b[0m\u001b[0;34m[\u001b[0m\u001b[0;34m:\u001b[0m\u001b[0;34m,\u001b[0m\u001b[0;36m0\u001b[0m\u001b[0;34m]\u001b[0m\u001b[0;34m)\u001b[0m\u001b[0;34m\u001b[0m\u001b[0m\n\u001b[0m\u001b[1;32m     10\u001b[0m     \u001b[0;32mreturn\u001b[0m \u001b[0msampRate\u001b[0m\u001b[0;34m,\u001b[0m \u001b[0mdata\u001b[0m\u001b[0;34m\u001b[0m\u001b[0m\n\u001b[1;32m     11\u001b[0m \u001b[0;34m\u001b[0m\u001b[0m\n",
      "\u001b[0;31mIndexError\u001b[0m: too many indices for array"
     ]
    }
   ],
   "source": [
    "import scipy.io.wavfile\n",
    "import wave\n",
    "import matplotlib.pyplot as plt\n",
    "import numpy as np\n",
    "\n",
    "def loadData(wavFile):\n",
    "    w = scipy.io.wavfile.read(wavFile)\n",
    "    sampRate = w[0]\n",
    "    data = np.array(w[1][:,0])\n",
    "    return sampRate, data\n",
    "\n",
    "\n",
    "def plotData(data, sampRate):\n",
    "    totTime = float(len(data))/float(sampRate) \n",
    "    \n",
    "    t = np.linspace(0.0, totTime,len(data))\n",
    "    plt.plot(t, data)\n",
    "    plt.show()\n",
    "    \n",
    "def fftPlot(fft, freq):\n",
    "    #plt.plot(freq, fft.real)\n",
    "    #plt.plot(freq, fft.imag)\n",
    "    ftAbs = np.sqrt(fft.real**2+fft.imag**2)\n",
    "    plt.plot(freq, ftAbs)\n",
    "    plt.show()\n",
    "    \n",
    "    \n",
    "def truncateData(sampRate, data, timeWindow):\n",
    "    fpw = int(np.floor(sampRate* timeWindow))\n",
    "    totFrames = len(data)\n",
    "    nWindows = totFrames/fpw\n",
    "    newTotFrames = nWindows *fpw\n",
    "    newDat = data[0:newTotFrames]\n",
    "    return newDat\n",
    "    \n",
    "def fft(data,freqLength):\n",
    "\n",
    "    fft = np.fft.fft(data, freqLength)\n",
    "    return fft\n",
    "\n",
    "def windowData(data, begTime, endTime, sampRate):\n",
    "    begFrame = int(begTime*sampRate)\n",
    "    endFrame = int(endTime*sampRate)\n",
    "    dataSamp = data[begFrame:endFrame]\n",
    "    return dataSamp\n",
    "\n",
    "def avgSquare(datasamp):\n",
    "    np.sum(datasamp.astype(float), datasamp.astype(float))/float(len(datasamp))\n",
    "    \n",
    "def constructFftWindow(wavFile, timeWindow, beginTime = None, endTime = None):\n",
    "    sRate, data = loadData(wavFile)\n",
    "    print len(data)\n",
    "    \n",
    "    if beginTime !=None:\n",
    "        begFrame = int(sRate*beginTime)\n",
    "    else:\n",
    "        beginTime = 0.0\n",
    "        begFrame = 0\n",
    "        \n",
    "    if endTime != None:\n",
    "        endFrame = int(sRate*endTime)\n",
    "    else:\n",
    "        endFrame = len(data)\n",
    "    data = data[begFrame:endFrame]\n",
    "        \n",
    "    data = truncateData(sRate, data, timeWindow)\n",
    "    \n",
    "    nframes = (len(data))\n",
    "    print len(data)\n",
    "\n",
    "    # windows per frame\n",
    "    fpw = int(sRate* timeWindow)\n",
    "    nWind = nframes/fpw\n",
    "    \n",
    "    endTime = beginTime+ float(nframes)/float(sRate)\n",
    "    #tArray = np.zeros((nWind, len(data)))\n",
    "    #fArray = np.zeros((nWind, len(data)))\n",
    "\n",
    "    freq = np.fft.fftfreq(10000, 1.0/(np.pi*2*sRate))\n",
    "    lnFreq = np.log(freq[1:len(freq)/4])\n",
    "    ftArray = np.zeros((len(freq)/4-1, nWind))\n",
    "    t = np.linspace(beginTime, endTime, nWind)\n",
    "    print beginTime, endTime\n",
    "    for i in range(nWind): \n",
    "        bTime = i*timeWindow \n",
    "        eTime = (i+1)*timeWindow\n",
    "        windData = windowData(data, bTime, eTime, sRate)\n",
    "        #print np.sum(windData)\n",
    "        ft = fft(windData, len(freq))\n",
    "        \n",
    "        ftAbs =  np.sqrt((ft.real[1:len(freq)/4])**2 + (ft.imag[1:len(freq)/4])**2)\n",
    "        #print np.sum(ftAbs)\n",
    "        #tArray[i, :] = np.ones(len(data))* begTime\n",
    "        #fArray[i, : ] = freq\n",
    "        ftArray[:, i] = ftAbs\n",
    "    print np.shape(ftArray)\n",
    "    print np.shape(lnFreq)\n",
    "    print np.shape(t)\n",
    "\n",
    "    plt.subplot(1,3, 1)\n",
    "    \n",
    "\n",
    "    t1 = np.linspace(beginTime, endTime, nframes)\n",
    "    plt.plot(t1,data)\n",
    "    \n",
    "    \n",
    "    plt.subplot(1,3,2)\n",
    "    cmap= plt.get('Blues')\n",
    "    plt.axis([t.min(), t.max(), lnFreq.min(), lnFreq.max()])\n",
    "    plt.pcolor(t,lnFreq, ftArray, cmap=cmap, vmin=ftArray.min(), vmax = ftArray.max())\n",
    "    #plt.pcolormesh(tArray,fArray,ftArray)\n",
    "    plt.colorbar()\n",
    "\n",
    "\n",
    "    fullFt = fft(data,len(freq))\n",
    "    ift= np.fft.ifft(fullFt, n = len(data))\n",
    "    time = np.linspace(0.0, (endTime-beginTime), len(data))\n",
    "    plt.subplot(1,3,3)\n",
    "    plt.plot(time,ift)\n",
    "    \n",
    "    plt.show()\n",
    "constructFftWindow('ali.wav', 0.05)\n",
    "#sRate, data = loadData(\"emeril.wav\")\n",
    "\n",
    "\n",
    "#dataNew = truncateData(sRate, data, 0.05)\n",
    "\n",
    "#ft, freq = fft(dataNew, sRate)\n",
    "#fftPlot(ft,freq)\n",
    "#plt.plot(timeSmall, dataSmall)\n",
    "#t = np.linspace(0, totTime, len(data))\n",
    "#plt.plot(t,data)\n",
    "#freq = np.fft.fftfreq(len(dataSmall), 1.0/sampRate)\n",
    "#fft = np.fft.fft(dataSmall, len(freq))\n",
    "#plt.plot(freq, fft.real)\n",
    "#plt.plot(freq, fft.imag)\n",
    "\n",
    "#plt.plot(freq,fft.real)\n",
    "#plt.plot(freq[0:100000],fft.imag[0:100000])\n",
    "#plt.show()"
   ]
  },
  {
   "cell_type": "code",
   "execution_count": null,
   "metadata": {
    "collapsed": true
   },
   "outputs": [],
   "source": []
  },
  {
   "cell_type": "code",
   "execution_count": null,
   "metadata": {
    "collapsed": true
   },
   "outputs": [],
   "source": []
  }
 ],
 "metadata": {
  "kernelspec": {
   "display_name": "Python 2",
   "language": "python",
   "name": "python2"
  },
  "language_info": {
   "codemirror_mode": {
    "name": "ipython",
    "version": 2
   },
   "file_extension": ".py",
   "mimetype": "text/x-python",
   "name": "python",
   "nbconvert_exporter": "python",
   "pygments_lexer": "ipython2",
   "version": "2.7.13"
  }
 },
 "nbformat": 4,
 "nbformat_minor": 2
}
