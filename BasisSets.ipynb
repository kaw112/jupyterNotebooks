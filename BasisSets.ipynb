{
 "cells": [
  {
   "cell_type": "code",
   "execution_count": 12,
   "metadata": {},
   "outputs": [
    {
     "data": {
      "application/vnd.jupyter.widget-view+json": {
       "model_id": "7714446021b54f5e888d363493ace257"
      }
     },
     "metadata": {},
     "output_type": "display_data"
    },
    {
     "data": {
      "text/plain": [
       "<function __main__.basisSetTrans>"
      ]
     },
     "execution_count": 12,
     "metadata": {},
     "output_type": "execute_result"
    }
   ],
   "source": [
    "import numpy as np\n",
    "import matplotlib.pyplot as plt\n",
    "from ipywidgets import *\n",
    "\n",
    "def basisSetTrans(v1Length, v2Length, v1Angle, v2Angle):\n",
    "\n",
    "    #basis vectors \n",
    "    v1 =v1Length * np.array([np.cos(v1Angle),np.sin(v1Angle)])\n",
    "    v2 =v2Length * np.array([np.cos(v2Angle),np.sin(v2Angle)])\n",
    "\n",
    "    Mat = np.zeros((2,2))\n",
    "    Mat[:,0]= v1\n",
    "    Mat[:,1]= v2\n",
    "    invMat = np.linalg.inv(Mat)\n",
    "    invV1 = invMat[:,0]\n",
    "    invV2 = invMat[:,1]\n",
    "    # create figure and axes object\n",
    "    fig, (ax1,ax2) = plt.subplots(1,2)\n",
    "    fig.set_size_inches((10,5))\n",
    "    ax1.set_xlim(-3, 3)\n",
    "    ax1.set_ylim(-3,3)\n",
    "    ax2.set_xlim(-3, 3)\n",
    "    ax2.set_ylim(-3,3)\n",
    "    ax1.quiver([v1[0]],[v1[1]],color='r',angles='xy', scale_units='xy', scale=1, LineWidth = 5)\n",
    "    ax1.quiver([v2[0]],[v2[1]],color='r',angles='xy', scale_units='xy', scale=1, LineWidth = 5)\n",
    "    ax2.quiver([invV1[0]],[invV1[1]],color='r',angles='xy', scale_units='xy', scale=1, LineWidth = 5)\n",
    "    ax2.quiver([invV2[0]],[invV2[1]],color='r',angles='xy', scale_units='xy', scale=1, LineWidth = 5)\n",
    "\n",
    "\n",
    "    t = np.linspace(-15,15, 100)\n",
    "    a = np.arange(-10,10)\n",
    "    for num in a:\n",
    "        x=[]\n",
    "        y=[]\n",
    "        for tval in t:\n",
    "            vec = num*v1+tval*v2\n",
    "            x.append(vec[0])\n",
    "            y.append(vec[1])\n",
    "        ax1.plot(x, y, color = 'blue')   \n",
    "    for num in a:\n",
    "        x=[]\n",
    "        y=[]\n",
    "        for tval in t:\n",
    "            vec = num*v2+tval*v1\n",
    "            x.append(vec[0])\n",
    "            y.append(vec[1])\n",
    "        ax1.plot(x, y, color = 'blue')\n",
    "\n",
    "    for num in a:\n",
    "        x=[]\n",
    "        y=[]\n",
    "        for tval in t:\n",
    "            vec = num*invV1+tval*invV2\n",
    "            x.append(vec[0])\n",
    "            y.append(vec[1])\n",
    "        ax2.plot(x, y, color = 'blue')   \n",
    "    for num in a:\n",
    "        x=[]\n",
    "        y=[]\n",
    "        for tval in t:\n",
    "            vec = num*invV2+tval*invV1\n",
    "            x.append(vec[0])\n",
    "            y.append(vec[1])\n",
    "        ax2.plot(x, y, color = 'blue')\n",
    "\n",
    "    plt.show()\n",
    "interact(basisSetTrans, v1Length=(0,3,0.1),v2Length=(0,3,0.1),v1Angle=(0,2*np.pi,0.2),v2Angle=(0,2* np.pi,0.2))"
   ]
  },
  {
   "cell_type": "code",
   "execution_count": null,
   "metadata": {
    "collapsed": true
   },
   "outputs": [],
   "source": []
  }
 ],
 "metadata": {
  "kernelspec": {
   "display_name": "Python 2",
   "language": "python",
   "name": "python2"
  },
  "language_info": {
   "codemirror_mode": {
    "name": "ipython",
    "version": 2
   },
   "file_extension": ".py",
   "mimetype": "text/x-python",
   "name": "python",
   "nbconvert_exporter": "python",
   "pygments_lexer": "ipython2",
   "version": "2.7.13"
  }
 },
 "nbformat": 4,
 "nbformat_minor": 2
}
