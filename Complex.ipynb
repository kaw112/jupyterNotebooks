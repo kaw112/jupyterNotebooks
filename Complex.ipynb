{
 "cells": [
  {
   "cell_type": "markdown",
   "metadata": {},
   "source": [
    "In this exerise we will learn how to visualize complex numbers and interpret how different operations change them.  We know that complex numbers can be written as a sum of their real and imaginary parts--ie. in standard form       z =a+b*i, where a = Re(z) and b =  Im(z).  We can represent this number in the complex plane with the coordinates (a,b). For example 3+4*i"
   ]
  },
  {
   "cell_type": "code",
   "execution_count": 1,
   "metadata": {},
   "outputs": [
    {
     "data": {
      "image/png": "[encoded data removed]",
      "text/plain": [
       "<matplotlib.figure.Figure at 0x7fd6b4e90750>"
      ]
     },
     "metadata": {},
     "output_type": "display_data"
    }
   ],
   "source": [
    "import matplotlib.pyplot as plt\n",
    "\n",
    "plt.plot(3,4, 'bo')\n",
    "plt.xlim(-5,5)\n",
    "plt.ylim(-5,5)\n",
    "plt.show()"
   ]
  },
  {
   "cell_type": "code",
   "execution_count": 3,
   "metadata": {},
   "outputs": [
    {
     "name": "stdout",
     "output_type": "stream",
     "text": [
      "1.35212738092\n"
     ]
    },
    {
     "data": {
      "image/png": "[encoded data removed]",
      "text/plain": [
       "<matplotlib.figure.Figure at 0x7f5c561b7090>"
      ]
     },
     "metadata": {},
     "output_type": "display_data"
    }
   ],
   "source": [
    "import numpy as np\n",
    "import matplotlib.pyplot as plt\n",
    "\n",
    "a = 1.0\n",
    "b = 4.5\n",
    "\n",
    "root = np.e\n",
    "\n",
    "def theta(a,b):\n",
    "    if a==0:\n",
    "        if b<0:\n",
    "            theta = -np.pi/2\n",
    "        elif b>0:\n",
    "            theta = np.pi/2\n",
    "    else:\n",
    "        theta = np.arctan(float(b)/float(a))\n",
    "        if a < 0 and b > 0:\n",
    "            theta = np.pi + theta\n",
    "        elif a <0 and b <0:\n",
    "            theta = theta-np.pi\n",
    "    return theta\n",
    "\n",
    "def r(a,b):\n",
    "    return np.sqrt(float(a)**2+float(b)**2)\n",
    "        \n",
    "angle = theta(a,b)\n",
    "length = r(a,b)\n",
    "print angle\n",
    "fig = plt.figure(figsize=(10, 10), dpi= 80, facecolor='w', edgecolor='k')\n",
    "plt.xlim(-length-0.1,length+0.1)\n",
    "plt.ylim(-length-0.1,length+0.1)\n",
    "plt.plot(a,b, 'ro')\n",
    "\n",
    "for i in range(100):\n",
    "    x = length**1/root *np.cos(angle/root + 2*np.pi/root*i)\n",
    "    y = length**1/root *np.sin(angle/root + 2*np.pi/root*i)\n",
    "    plt.plot(x,y, 'bo')\n",
    "\n",
    "plt.show()\n",
    "#def init():\n",
    "#    fig = plt.figure(figsize=(10, 20), dpi= 80, facecolor='w', edgecolor='k')\n",
    "#    ax = add_subplot()\n",
    "    \n",
    "#def animate(i):\n",
    "    \n",
    "    \n",
    "#anim = animation.FuncAnimation(fig, animate,init_func=init, frames=20, interval=180, blit=True)"
   ]
  },
  {
   "cell_type": "markdown",
   "metadata": {},
   "source": []
  },
  {
   "cell_type": "code",
   "execution_count": 34,
   "metadata": {},
   "outputs": [
    {
     "data": {
      "application/vnd.jupyter.widget-view+json": {
       "model_id": "2aaac565313140fd936ad5fcba8ac8f0"
      }
     },
     "metadata": {},
     "output_type": "display_data"
    },
    {
     "data": {
      "text/plain": [
       "<function __main__.func>"
      ]
     },
     "execution_count": 34,
     "metadata": {},
     "output_type": "execute_result"
    }
   ],
   "source": [
    "import numpy as np\n",
    "import matplotlib.pyplot as plt\n",
    "\n",
    "import numpy as np\n",
    "import matplotlib.pyplot as plt\n",
    "from ipywidgets import interact_manual\n",
    "\n",
    "\n",
    "root = float(9) \n",
    "a = float(1.0)\n",
    "b = float(4.5)\n",
    "def func(rootNum, mult):\n",
    "\n",
    "\n",
    "\n",
    "    def theta(a,b):\n",
    "        if a==0:\n",
    "            if b<0:\n",
    "                theta = -np.pi/2\n",
    "            elif b>0:\n",
    "                theta = np.pi/2\n",
    "        else:\n",
    "            theta = np.arctan(float(b)/float(a))\n",
    "            if a < 0 and b > 0:\n",
    "                theta = np.pi + theta\n",
    "            elif a <0 and b <0:\n",
    "                theta = theta-np.pi\n",
    "        return theta\n",
    "\n",
    "    def r(a,b):\n",
    "        return np.sqrt(float(a)**2+float(b)**2)\n",
    "\n",
    "    angle = theta(a,b)\n",
    "    length = r(a,b)\n",
    "    print angle\n",
    "    fig = plt.figure(figsize=(10, 10), dpi= 80, facecolor='w', edgecolor='k')\n",
    "    plt.xlim(-length-0.1,length+0.1)\n",
    "    plt.ylim(-length-0.1,length+0.1)\n",
    "    plt.plot(a,b, 'ro')\n",
    "\n",
    "    rootsX = []\n",
    "    rootsY = []\n",
    "    for i in range(int(root)):\n",
    "        x = length**1/root *np.cos(angle/root + 2*np.pi/root*i)\n",
    "        y = length**1/root *np.sin(angle/root + 2*np.pi/root*i)\n",
    "        rootsX.append(x)\n",
    "        rootsY.append(y)\n",
    "\n",
    "    plt.close()\n",
    "\n",
    "    fig = plt.figure(figsize=(10, 10), dpi= 80, facecolor='w', edgecolor='k')\n",
    "    plt.xlim(-length-0.1,length+0.1)\n",
    "    plt.ylim(-length-0.1,length+0.1)\n",
    "    plt.plot(a,b, 'ro')\n",
    "    x0 = length**(1/root) *np.cos((angle/root + 2*np.pi/root* rootNum))\n",
    "    y0 = length**(1/root) *np.sin((angle/root + 2*np.pi/root* rootNum))\n",
    "    plt.plot(x0, y0, 'bo')\n",
    "    \n",
    "    xList = []\n",
    "    yList = []\n",
    "    for i in range(0,51):\n",
    "        x = length**(1/root *(i*((mult-1)/50.0)+1)) *np.cos(((angle/root) + 2*np.pi/root* rootNum)*(i*((mult-1)/50.0)+1))\n",
    "        y = length**(1/root *(i*((mult-1)/50.0)+1)) *np.sin(((angle/root) + 2*np.pi/root* rootNum)*(i*((mult-1)/50.0)+1))\n",
    "        xList.append(x)\n",
    "        yList.append(y)\n",
    "    \n",
    "    plt.plot(xList,yList, 'b-')\n",
    "    \n",
    "    plt.show()\n",
    "    \n",
    "interact_manual(func, rootNum=(0,root-1, 1), mult=(1.0,float(root), 0.1))"
   ]
  },
  {
   "cell_type": "code",
   "execution_count": null,
   "metadata": {
    "collapsed": true
   },
   "outputs": [],
   "source": []
  }
 ],
 "metadata": {
  "kernelspec": {
   "display_name": "Python 2",
   "language": "python",
   "name": "python2"
  },
  "language_info": {
   "codemirror_mode": {
    "name": "ipython",
    "version": 2
   },
   "file_extension": ".py",
   "mimetype": "text/x-python",
   "name": "python",
   "nbconvert_exporter": "python",
   "pygments_lexer": "ipython2",
   "version": "2.7.13"
  }
 },
 "nbformat": 4,
 "nbformat_minor": 2
}
