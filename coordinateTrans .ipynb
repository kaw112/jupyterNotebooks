{
 "cells": [
  {
   "cell_type": "code",
   "execution_count": 1,
   "metadata": {},
   "outputs": [
    {
     "data": {
      "image/png": "[encoded data removed]",
      "text/plain": [
       "<matplotlib.figure.Figure at 0x7fe8bc673390>"
      ]
     },
     "metadata": {},
     "output_type": "display_data"
    }
   ],
   "source": [
    "import matplotlib.pyplot as plt\n",
    "\n",
    "f, (ax1,ax2) = plt.subplots(1,2, sharex=True, sharey=True)\n",
    "\n",
    "ax1.set_xlim(0,5)\n",
    "ax1.set_ylim(0,5)\n",
    "ax1.plot([0,5], [2,2])\n",
    "ax1.plot([0,5], [1,1])\n",
    "ax1.plot([0,5], [3.5, 3.5])\n",
    "ax2.plot([0,5], [2,2])\n",
    "ax2.plot([0,5], [3,3])\n",
    "ax2.plot([0,5], [4.5, 4.5])\n",
    "plt.show()\n"
   ]
  },
  {
   "cell_type": "code",
   "execution_count": 1,
   "metadata": {},
   "outputs": [
    {
     "data": {
      "image/png": "[encoded data removed]",
      "text/plain": [
       "<matplotlib.figure.Figure at 0x7f1478a73be0>"
      ]
     },
     "metadata": {},
     "output_type": "display_data"
    }
   ],
   "source": [
    "import matplotlib.pyplot as plt\n",
    "import numpy as np\n",
    "\n",
    "plt.clf()\n",
    "def f(x,t):\n",
    "    return t/x\n",
    "\n",
    "tList =[1.0, 2.5, 4.0]\n",
    "\n",
    "x = np.linspace(0.1,5, 50)\n",
    "\n",
    "for value in tList:\n",
    "    plt.plot(x, f(x,value))\n",
    "    \n",
    "plt.xlim(0,5)\n",
    "plt.ylim(0,5)\n",
    "plt.show()"
   ]
  },
  {
   "cell_type": "code",
   "execution_count": 18,
   "metadata": {},
   "outputs": [
    {
     "data": {
      "application/vnd.jupyter.widget-view+json": {
       "model_id": "05d3432201084985ad845b3686fef460"
      }
     },
     "metadata": {},
     "output_type": "display_data"
    },
    {
     "data": {
      "text/plain": [
       "<function __main__.makePlot>"
      ]
     },
     "execution_count": 18,
     "metadata": {},
     "output_type": "execute_result"
    }
   ],
   "source": [
    "import matplotlib.pyplot as plt\n",
    "from mpl_toolkits.mplot3d import Axes3D\n",
    "from ipywidgets import interact\n",
    "\n",
    "def makePlot(phi, theta):\n",
    "    fig = plt.figure(figsize=(16, 16), dpi= 80, facecolor='w', edgecolor='k')\n",
    "    ax = fig.add_subplot(111, projection='3d')\n",
    "\n",
    "    def f(x,y):\n",
    "        return np.sin(x*y)*np.exp(-x**2-y**2)\n",
    "    \n",
    "    def g(x,t):\n",
    "        return t/x\n",
    "    x =np.linspace(0,2,20)\n",
    "    y = np.linspace(0,2,20)\n",
    "    X,Y = np.meshgrid(x,y)\n",
    "    \n",
    "    ax.plot_wireframe(X,Y,f(X,Y))\n",
    "    tList =[0.5,1.5, 2.5]\n",
    "\n",
    "    def gx(t):\n",
    "        \n",
    "        return np.linspace(t/2.0,2.0, 30)\n",
    "\n",
    "    \n",
    "    for value in tList:\n",
    "        plt.plot(gx(value), g(gx(value),value), 'r')\n",
    "        \n",
    "        \n",
    "    \n",
    "    ax.set_xlim(0,2)\n",
    "    ax.set_ylim(0,2)\n",
    "    ax.view_init(elev= phi, azim = theta)\n",
    "    \n",
    "    plt.show()\n",
    "    \n",
    "interact(makePlot, phi= (0, 90,0.05), theta=(0,180, 0.1))"
   ]
  },
  {
   "cell_type": "code",
   "execution_count": 4,
   "metadata": {},
   "outputs": [
    {
     "data": {
      "application/vnd.jupyter.widget-view+json": {
       "model_id": "d993091501f54974b4d6952d9ad9def2"
      }
     },
     "metadata": {},
     "output_type": "display_data"
    },
    {
     "data": {
      "text/plain": [
       "<function __main__.makePlot>"
      ]
     },
     "execution_count": 4,
     "metadata": {},
     "output_type": "execute_result"
    }
   ],
   "source": [
    "import matplotlib.pyplot as plt\n",
    "from mpl_toolkits.mplot3d import Axes3D\n",
    "from ipywidgets import interact\n",
    "import numpy as np\n",
    "\n",
    "def makePlot(phi, theta):\n",
    "    fig = plt.figure(figsize=(16, 16), dpi= 80, facecolor='w', edgecolor='k')\n",
    "    ax = fig.add_subplot(111, projection='3d')\n",
    "\n",
    "    def f(x,y):\n",
    "        return np.sin(x*y)*np.exp(-x**2-y**2)\n",
    "    \n",
    "    def g(x,t):\n",
    "        return t/x\n",
    "    \n",
    "    x =np.linspace(0,2,20)\n",
    "    y = np.linspace(0,2,20)\n",
    "    X,Y = np.meshgrid(x,y)\n",
    "    \n",
    "    ax.plot_wireframe(X,Y,f(X,Y))\n",
    "    tList =[0.5]\n",
    "\n",
    "    def gx(t):\n",
    "        \n",
    "        return np.linspace(t/2.0,2.0, 30)\n",
    "\n",
    "    \n",
    "    for value in tList:\n",
    "        plt.plot(gx(value), g(gx(value),value), 'r')\n",
    "        \n",
    "        \n",
    "    \n",
    "    ax.set_xlim(0,2)\n",
    "    ax.set_ylim(0,2)\n",
    "    \n",
    "    \n",
    "    \n",
    "    \n",
    "    #hz = np.linspace(0,0.2, 20)\n",
    "    \n",
    "    #HX, HZ = np.meshgrid(hx, hz)\n",
    "    \n",
    "    #HY = g(HX,0.5)\n",
    "    \n",
    "    #ax.plot_wireframe(HX,HY,HZ, color= 'red')\n",
    "    \n",
    "    kx = np.linspace(0.5/2,2, 20)\n",
    "    ky = g(kx,0.5)\n",
    "    kz = f(kx,ky)\n",
    "    ax.plot(kx,ky,kz,color= 'red')\n",
    "\n",
    "    \n",
    "    zvals = np.linspace(0,np.amax(kz),5)\n",
    "    \n",
    "    hx = np.linspace(0.5/2, 2, 20)\n",
    "    hy = g(hx, 0.5)\n",
    "    \n",
    "    for i in range(20):\n",
    "            hz =[0,f(hx[i], hy[i])]\n",
    "            ax.plot([hx[i], hx[i]], [hy[i], hy[i]], hz, color = 'red')\n",
    "            \n",
    "    \n",
    "    ax.view_init(elev= phi, azim = theta)\n",
    "    plt.show()\n",
    "    \n",
    "interact(makePlot, phi= (0, 90,0.05), theta=(0,180, 0.1))"
   ]
  },
  {
   "cell_type": "code",
   "execution_count": 11,
   "metadata": {},
   "outputs": [
    {
     "data": {
      "application/vnd.jupyter.widget-view+json": {
       "model_id": "38a5fd109513410d875b74b058a135a9"
      }
     },
     "metadata": {},
     "output_type": "display_data"
    },
    {
     "data": {
      "text/plain": [
       "<function __main__.makePlot>"
      ]
     },
     "execution_count": 11,
     "metadata": {},
     "output_type": "execute_result"
    }
   ],
   "source": [
    "import matplotlib.pyplot as plt\n",
    "from mpl_toolkits.mplot3d import Axes3D\n",
    "from ipywidgets import interact\n",
    "import numpy as np\n",
    "\n",
    "def makePlot(phi, theta):\n",
    "    fig = plt.figure(figsize=(16, 16), dpi= 80, facecolor='w', edgecolor='k')\n",
    "    ax = fig.add_subplot(111, projection='3d')\n",
    "\n",
    "    def f(x,y):\n",
    "        return np.sin(x*y)*np.exp(-x**2-y**2)\n",
    "    \n",
    "    def g(x,t):\n",
    "        return t/x\n",
    "    \n",
    "    x =np.linspace(0,2,20)\n",
    "    y = np.linspace(0,2,20)\n",
    "    X,Y = np.meshgrid(x,y)\n",
    "    \n",
    "    ax.plot_wireframe(X,Y,f(X,Y))\n",
    "    tList =[0.5]\n",
    "\n",
    "    def gx(t):\n",
    "        \n",
    "        return np.linspace(t/2.0,2.0, 30)\n",
    "\n",
    "    \n",
    "    for value in tList:\n",
    "        plt.plot(gx(value), g(gx(value),value), 'r')\n",
    "        \n",
    "        \n",
    "    \n",
    "    ax.set_xlim(0,2)\n",
    "    ax.set_ylim(0,2)\n",
    "    \n",
    "    \n",
    "    \n",
    "    \n",
    "    #hz = np.linspace(0,0.2, 20)\n",
    "    \n",
    "    #HX, HZ = np.meshgrid(hx, hz)\n",
    "    \n",
    "    #HY = g(HX,0.5)\n",
    "    \n",
    "    #ax.plot_wireframe(HX,HY,HZ, color= 'red')\n",
    "    \n",
    "    kx = np.linspace(0.5/2,2, 20)\n",
    "    ky = g(kx,0.5)\n",
    "    kz = f(kx,ky)\n",
    "    ax.plot(kx,ky,kz,color= 'red')\n",
    "\n",
    "    \n",
    "    zvals = np.linspace(0,np.amax(kz),5)\n",
    "    \n",
    "    hx = np.linspace(0.5/2, 2, 20)\n",
    "    hy = g(hx, 0.5)\n",
    "    \n",
    "    for i in range(20):\n",
    "            hz =[0,f(hx[i], hy[i])]\n",
    "            ax.plot([hx[i], hx[i]], [hy[i], hy[i]], hz, color = 'red')\n",
    "            ax.plot([hx[i], hx[i]], [0,hy[i]], [hz[1], hz[1]], color = 'green')\n",
    "            \n",
    "    jx = np.linspace(0.5/2,2,20)\n",
    "    jy = np.zeros(20)\n",
    "    jz = f(jx,hy)\n",
    "    \n",
    "    ax.plot(jx,jy, jz,color='green')\n",
    "    \n",
    "    ax.view_init(elev= phi, azim = theta)\n",
    "    plt.show()\n",
    "    \n",
    "interact(makePlot, phi= (0, 90,0.05), theta=(0,180, 0.1))"
   ]
  },
  {
   "cell_type": "code",
   "execution_count": 1,
   "metadata": {},
   "outputs": [
    {
     "ename": "RuntimeError",
     "evalue": "No MovieWriters available!",
     "output_type": "error",
     "traceback": [
      "\u001b[0;31m\u001b[0m",
      "\u001b[0;31mRuntimeError\u001b[0mTraceback (most recent call last)",
      "\u001b[0;32m/ihome/crc/install/python/anaconda2.7-4.2.0/lib/python2.7/site-packages/IPython/core/formatters.pyc\u001b[0m in \u001b[0;36m__call__\u001b[0;34m(self, obj)\u001b[0m\n\u001b[1;32m    309\u001b[0m             \u001b[0mmethod\u001b[0m \u001b[0;34m=\u001b[0m \u001b[0mget_real_method\u001b[0m\u001b[0;34m(\u001b[0m\u001b[0mobj\u001b[0m\u001b[0;34m,\u001b[0m \u001b[0mself\u001b[0m\u001b[0;34m.\u001b[0m\u001b[0mprint_method\u001b[0m\u001b[0;34m)\u001b[0m\u001b[0;34m\u001b[0m\u001b[0m\n\u001b[1;32m    310\u001b[0m             \u001b[0;32mif\u001b[0m \u001b[0mmethod\u001b[0m \u001b[0;32mis\u001b[0m \u001b[0;32mnot\u001b[0m \u001b[0mNone\u001b[0m\u001b[0;34m:\u001b[0m\u001b[0;34m\u001b[0m\u001b[0m\n\u001b[0;32m--> 311\u001b[0;31m                 \u001b[0;32mreturn\u001b[0m \u001b[0mmethod\u001b[0m\u001b[0;34m(\u001b[0m\u001b[0;34m)\u001b[0m\u001b[0;34m\u001b[0m\u001b[0m\n\u001b[0m\u001b[1;32m    312\u001b[0m             \u001b[0;32mreturn\u001b[0m \u001b[0mNone\u001b[0m\u001b[0;34m\u001b[0m\u001b[0m\n\u001b[1;32m    313\u001b[0m         \u001b[0;32melse\u001b[0m\u001b[0;34m:\u001b[0m\u001b[0;34m\u001b[0m\u001b[0m\n",
      "\u001b[0;32m/ihome/crc/install/python/anaconda2.7-4.2.0/lib/python2.7/site-packages/matplotlib/animation.pyc\u001b[0m in \u001b[0;36m_repr_html_\u001b[0;34m(self)\u001b[0m\n\u001b[1;32m   1233\u001b[0m         \u001b[0mfmt\u001b[0m \u001b[0;34m=\u001b[0m \u001b[0mrcParams\u001b[0m\u001b[0;34m[\u001b[0m\u001b[0;34m'animation.html'\u001b[0m\u001b[0;34m]\u001b[0m\u001b[0;34m\u001b[0m\u001b[0m\n\u001b[1;32m   1234\u001b[0m         \u001b[0;32mif\u001b[0m \u001b[0mfmt\u001b[0m \u001b[0;34m==\u001b[0m \u001b[0;34m'html5'\u001b[0m\u001b[0;34m:\u001b[0m\u001b[0;34m\u001b[0m\u001b[0m\n\u001b[0;32m-> 1235\u001b[0;31m             \u001b[0;32mreturn\u001b[0m \u001b[0mself\u001b[0m\u001b[0;34m.\u001b[0m\u001b[0mto_html5_video\u001b[0m\u001b[0;34m(\u001b[0m\u001b[0;34m)\u001b[0m\u001b[0;34m\u001b[0m\u001b[0m\n\u001b[0m\u001b[1;32m   1236\u001b[0m \u001b[0;34m\u001b[0m\u001b[0m\n\u001b[1;32m   1237\u001b[0m \u001b[0;34m\u001b[0m\u001b[0m\n",
      "\u001b[0;32m/ihome/crc/install/python/anaconda2.7-4.2.0/lib/python2.7/site-packages/matplotlib/animation.pyc\u001b[0m in \u001b[0;36mto_html5_video\u001b[0;34m(self)\u001b[0m\n\u001b[1;32m   1203\u001b[0m                 \u001b[0;31m# We create a writer manually so that we can get the\u001b[0m\u001b[0;34m\u001b[0m\u001b[0;34m\u001b[0m\u001b[0m\n\u001b[1;32m   1204\u001b[0m                 \u001b[0;31m# appropriate size for the tag\u001b[0m\u001b[0;34m\u001b[0m\u001b[0;34m\u001b[0m\u001b[0m\n\u001b[0;32m-> 1205\u001b[0;31m                 \u001b[0mWriter\u001b[0m \u001b[0;34m=\u001b[0m \u001b[0mwriters\u001b[0m\u001b[0;34m[\u001b[0m\u001b[0mrcParams\u001b[0m\u001b[0;34m[\u001b[0m\u001b[0;34m'animation.writer'\u001b[0m\u001b[0;34m]\u001b[0m\u001b[0;34m]\u001b[0m\u001b[0;34m\u001b[0m\u001b[0m\n\u001b[0m\u001b[1;32m   1206\u001b[0m                 writer = Writer(codec='h264',\n\u001b[1;32m   1207\u001b[0m                                 \u001b[0mbitrate\u001b[0m\u001b[0;34m=\u001b[0m\u001b[0mrcParams\u001b[0m\u001b[0;34m[\u001b[0m\u001b[0;34m'animation.bitrate'\u001b[0m\u001b[0;34m]\u001b[0m\u001b[0;34m,\u001b[0m\u001b[0;34m\u001b[0m\u001b[0m\n",
      "\u001b[0;32m/ihome/crc/install/python/anaconda2.7-4.2.0/lib/python2.7/site-packages/matplotlib/animation.pyc\u001b[0m in \u001b[0;36m__getitem__\u001b[0;34m(self, name)\u001b[0m\n\u001b[1;32m    157\u001b[0m         \u001b[0mself\u001b[0m\u001b[0;34m.\u001b[0m\u001b[0mensure_not_dirty\u001b[0m\u001b[0;34m(\u001b[0m\u001b[0;34m)\u001b[0m\u001b[0;34m\u001b[0m\u001b[0m\n\u001b[1;32m    158\u001b[0m         \u001b[0;32mif\u001b[0m \u001b[0;32mnot\u001b[0m \u001b[0mself\u001b[0m\u001b[0;34m.\u001b[0m\u001b[0mavail\u001b[0m\u001b[0;34m:\u001b[0m\u001b[0;34m\u001b[0m\u001b[0m\n\u001b[0;32m--> 159\u001b[0;31m             \u001b[0;32mraise\u001b[0m \u001b[0mRuntimeError\u001b[0m\u001b[0;34m(\u001b[0m\u001b[0;34m\"No MovieWriters available!\"\u001b[0m\u001b[0;34m)\u001b[0m\u001b[0;34m\u001b[0m\u001b[0m\n\u001b[0m\u001b[1;32m    160\u001b[0m         \u001b[0;32mreturn\u001b[0m \u001b[0mself\u001b[0m\u001b[0;34m.\u001b[0m\u001b[0mavail\u001b[0m\u001b[0;34m[\u001b[0m\u001b[0mname\u001b[0m\u001b[0;34m]\u001b[0m\u001b[0;34m\u001b[0m\u001b[0m\n\u001b[1;32m    161\u001b[0m \u001b[0;34m\u001b[0m\u001b[0m\n",
      "\u001b[0;31mRuntimeError\u001b[0m: No MovieWriters available!"
     ]
    },
    {
     "data": {
      "text/plain": [
       "<matplotlib.animation.FuncAnimation at 0x7f9ac5419c10>"
      ]
     },
     "metadata": {},
     "output_type": "display_data"
    },
    {
     "data": {
      "text/plain": [
       "<function __main__.makeAnimation>"
      ]
     },
     "execution_count": 1,
     "metadata": {},
     "output_type": "execute_result"
    }
   ],
   "source": [
    "import matplotlib.pyplot as plt\n",
    "from mpl_toolkits.mplot3d import Axes3D\n",
    "from ipywidgets import interact\n",
    "import numpy as np\n",
    "from matplotlib import animation, rc\n",
    "from IPython.display import HTML, Image\n",
    "\n",
    "def f(x,y):\n",
    "    return np.sin(x*y)*np.exp(-x**2-y**2)\n",
    "\n",
    "#def g(x,t):\n",
    "#    return t/x\n",
    "#def g(x,t):\n",
    "    #return t*x**2\n",
    "def g(x,t):\n",
    "    return np.sin(t*x)\n",
    "\n",
    "\n",
    "def makeAnimation(phi,theta):\n",
    "    fig = plt.figure(figsize=(10, 20), dpi= 80, facecolor='w', edgecolor='k')\n",
    "    ax = fig.add_subplot(211,projection='3d')\n",
    "    ax1 = fig.add_subplot(212,projection='3d')\n",
    "    ax.view_init(elev= phi, azim = theta)\n",
    "    ax1.view_init(elev= phi, azim = theta)\n",
    "    \n",
    "    def init():\n",
    "        ax.set_xlim(0,2)\n",
    "        ax.set_ylim(0,2)\n",
    "        ax1.set_xlim(0,2)\n",
    "        ax1.set_ylim(0,4)\n",
    "        \n",
    "        t = i/5.0 +0.1\n",
    "        \n",
    "        #make wireframe surface\n",
    "        x =np.linspace(0,2,20)\n",
    "        y = np.linspace(0,2,20)\n",
    "        X,Y = np.meshgrid(x,y)\n",
    "    \n",
    "        S = ax.plot_wireframe(X,Y,f(X,Y))\n",
    "        T = ax1.plot_wireframe([],[],[])\n",
    "        return S, \n",
    "    \n",
    "    i = 0\n",
    "    def animate(i):\n",
    "        ax.clear()\n",
    "        ax1.clear()\n",
    "\n",
    "        ax.set_xlim(0,2)\n",
    "        ax.set_ylim(0,2)\n",
    "        ax1.set_xlim(0,2)\n",
    "        ax1.set_ylim(0,4)\n",
    "        \n",
    "        t = i/5.0 +0.1\n",
    "        \n",
    "        i+=1\n",
    "        #make wireframe surface\n",
    "        x =np.linspace(0,2,20)\n",
    "        y = np.linspace(0,2,20)\n",
    "        X,Y = np.meshgrid(x,y)\n",
    "        S = ax.plot_wireframe(X,Y,f(X,Y))\n",
    "        \n",
    "        tArray = np.linspace(0.1,t, int((t-0.1)//0.1))\n",
    "        X, T = np.meshgrid(x, tArray)\n",
    "        T = ax1.plot_wireframe(X, T,f(X, g(X,T)) , color = 'green')\n",
    "        \n",
    "        rx = np.linspace(0.0,2.0, 20)\n",
    "        deletelist = []\n",
    "        for i in range(20):\n",
    "            try:\n",
    "                y = g(rx[i], t)\n",
    "                if y>2 or y<0:\n",
    "                    deletelist.append(i)\n",
    "            except:\n",
    "                deletelist.append(i)\n",
    "                \n",
    "        rx = np.delete(rx, deletelist)\n",
    "        #rx = gx(t)\n",
    "        #bottom curve of constant t\n",
    "        ry = g(rx,t)\n",
    "        ax.plot(rx, ry, 'r') \n",
    "        \n",
    "        for i in range(len(rx)):\n",
    "            ax.plot([rx[i], rx[i]], [ry[i], ry[i]], [0,f(rx[i],ry[i])], color = 'red')\n",
    "        \n",
    "        \n",
    "        #top curve of constant t that intersects the surface\n",
    "        ky = g(rx,t)\n",
    "        kz = f(rx,ky)\n",
    "        ax.plot(rx,ky,kz,color= 'red')\n",
    "        \n",
    "        #spacing for red and green lines\n",
    "        dspace = 0.1\n",
    "        # red lines connecting red curves and green projection lines\n",
    "        Endpt = ((2-0)//dspace)*dspace\n",
    "        Npoints = int((Endpt-0)/dspace)\n",
    "        hx = np.linspace(0, Endpt, Npoints)\n",
    "        hy = g(hx,t)\n",
    "        hz = f(hx,hy)\n",
    "        \n",
    "        for i in range(Npoints):\n",
    "            if hy[i]<2:\n",
    "                ax.plot([hx[i], hx[i]], [0,hy[i]], [hz[i], hz[i]], color = 'green')\n",
    "            if hy[i]>2:\n",
    "                ax.plot([hx[i], hx[i]], [0,2], [hz[i], hz[i]], color = 'green')\n",
    "            \n",
    "        jy = np.zeros(Npoints)\n",
    "        jz = f(hx, hy)\n",
    "        ax.plot(hx,jy, jz,color='green')    \n",
    "        return S, T,\n",
    "    rc('animation', html='html5')\n",
    "    anim = animation.FuncAnimation(fig, animate,init_func=init, frames=20, interval=180, blit=True)\n",
    "\n",
    "    return anim\n",
    "\n",
    "    \n",
    "anim = interact(makeAnimation, phi= (0, 90,0.05), theta=(0,180, 0.1)) \n",
    "anim\n",
    "    \n",
    "    "
   ]
  },
  {
   "cell_type": "code",
   "execution_count": null,
   "metadata": {
    "collapsed": true
   },
   "outputs": [],
   "source": []
  },
  {
   "cell_type": "code",
   "execution_count": null,
   "metadata": {
    "collapsed": true
   },
   "outputs": [],
   "source": []
  },
  {
   "cell_type": "code",
   "execution_count": null,
   "metadata": {
    "collapsed": true
   },
   "outputs": [],
   "source": []
  },
  {
   "cell_type": "code",
   "execution_count": null,
   "metadata": {
    "collapsed": true
   },
   "outputs": [],
   "source": []
  }
 ],
 "metadata": {
  "kernelspec": {
   "display_name": "Python [conda root]",
   "language": "python",
   "name": "conda-root-py"
  },
  "language_info": {
   "codemirror_mode": {
    "name": "ipython",
    "version": 3
   },
   "file_extension": ".py",
   "mimetype": "text/x-python",
   "name": "python",
   "nbconvert_exporter": "python",
   "pygments_lexer": "ipython3",
   "version": "3.5.3"
  }
 },
 "nbformat": 4,
 "nbformat_minor": 2
}
